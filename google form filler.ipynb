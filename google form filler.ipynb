{
 "cells": [
  {
   "cell_type": "code",
   "execution_count": 1,
   "metadata": {},
   "outputs": [],
   "source": [
    "from selenium import webdriver\n",
    "from selenium.webdriver.common.keys import Keys\n",
    "from selenium.webdriver.common.action_chains import ActionChains\n",
    "from selenium.webdriver.common.by import By\n",
    "from selenium.webdriver.support.ui import WebDriverWait\n",
    "from selenium.webdriver.support import expected_conditions as EC\n",
    "from bs4 import BeautifulSoup\n",
    "import time\n",
    "import random"
   ]
  },
  {
   "cell_type": "code",
   "execution_count": 2,
   "metadata": {},
   "outputs": [
    {
     "name": "stdout",
     "output_type": "stream",
     "text": [
      "\n",
      "\n",
      "\n",
      "\n",
      "\n"
     ]
    }
   ],
   "source": [
    "is_coming = ['/html/body/div/div[2]/form/div/div[2]/div[2]/div[1]/div[2]/div/content/div/label[1]/div/div[1]/div[3]/div',\n",
    "             '/html/body/div/div[2]/form/div/div[2]/div[2]/div[1]/div[2]/div/content/div/label[2]/div/div[1]/div[3]/div']\n",
    "for i in range(5):\n",
    "    driver = webdriver.Firefox()\n",
    "    driver.get('https://docs.google.com/forms/d/e/1FAIpQLSfwPaHQZv9Ft6s2uvbmEWGuqkA9h7dFns0Xgg0uKHGOF1Sc-g/viewform?vc=0&c=0&w=1')\n",
    "    input()\n",
    "    wait = WebDriverWait(driver, 10)\n",
    "    time.sleep(5)\n",
    "    button = is_coming[random.randint(0,1)]\n",
    "    driver.find_element_by_xpath(button).click()\n",
    "    time.sleep(0.5)\n",
    "    driver.find_element_by_xpath('/html/body/div/div[2]/form/div/div[2]/div[3]/div[1]/div/div/content/span').click()\n",
    "    driver.close()"
   ]
  }
 ],
 "metadata": {
  "kernelspec": {
   "display_name": "Python 3",
   "language": "python",
   "name": "python3"
  },
  "language_info": {
   "codemirror_mode": {
    "name": "ipython",
    "version": 3
   },
   "file_extension": ".py",
   "mimetype": "text/x-python",
   "name": "python",
   "nbconvert_exporter": "python",
   "pygments_lexer": "ipython3",
   "version": "3.7.1"
  }
 },
 "nbformat": 4,
 "nbformat_minor": 2
}
